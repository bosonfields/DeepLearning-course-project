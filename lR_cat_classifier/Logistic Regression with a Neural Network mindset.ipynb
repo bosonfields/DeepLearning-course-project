import numpy as np
import matplotlib.pyplot as plt
import h5py
import scipy
from PIL import Image
from scipy import ndimage
from lr_utils import load_dataset

%matplotlib inline


# Loading the data (cat/non-cat)
train_set_x_orig, train_set_y, test_set_x_orig, test_set_y, classes = load_dataset()


# Example of a picture
index = 46
plt.imshow(train_set_x_orig[index])
print ("y = " + str(train_set_y[:, index]) + ", it's a '" + classes[np.squeeze(train_set_y[:, index])].decode("utf-8") +  "' picture.")

# output
# y = [0], it's a 'non-cat' picture.


#Read shape
m_train = train_set_x_orig.shape[0]
m_test = test_set_x_orig.shape[0]
num_px = train_set_x_orig.shape[1]
#test
print ("Number of training examples: m_train = " + str(m_train))
print ("Number of testing examples: m_test = " + str(m_test))
print ("Height/Width of each image: num_px = " + str(num_px))
print ("Each image is of size: (" + str(num_px) + ", " + str(num_px) + ", 3)")
print ("train_set_x shape: " + str(train_set_x_orig.shape))
print ("train_set_y shape: " + str(train_set_y.shape))
print ("test_set_x shape: " + str(test_set_x_orig.shape))
print ("test_set_y shape: " + str(test_set_y.shape))
#ouput
#Number of training examples: m_train = 209
#Number of testing examples: m_test = 50
#Height/Width of each image: num_px = 64
#Each image is of size: (64, 64, 3)
#train_set_x shape: (209, 64, 64, 3)
#train_set_y shape: (1, 209)
#test_set_x shape: (50, 64, 64, 3)
#test_set_y shape: (1, 50)


#Reshape the training and test examples
train_set_x_flatten = train_set_x_orig.reshape(train_set_x_orig.shape[0],-1).T
test_set_x_flatten = test_set_x_orig.reshape(test_set_x_orig.shape[0],-1).T
#test
print ("train_set_x_flatten shape: " + str(train_set_x_flatten.shape))
print ("train_set_y shape: " + str(train_set_y.shape))
print ("test_set_x_flatten shape: " + str(test_set_x_flatten.shape))
print ("test_set_y shape: " + str(test_set_y.shape))
print ("sanity check after reshaping: " + str(train_set_x_flatten[0:5,0]))
#output
#train_set_x_flatten shape: (12288, 209)
#train_set_y shape: (1, 209)
#test_set_x_flatten shape: (12288, 50)
#test_set_y shape: (1, 50)
#sanity check after reshaping: [17 31 56 22 33]


#sigmoid
def sigmoid(z):
s = 1/(1+np.exp(-z))
return s
#test
print("sigmoid([0,2]) = " + str(sigmoid(np.array([0,2]))))
#output
#sigmoid([0,2]) = [ 0.5   0.88079708]


#initialize_with_zeros
def initialize_with_zeros(dim):
w = np.zeros((dim,1))
b = 0
assert(w.shape == (dim,1))
assert(isinstance(b,float) or isinstance(b, int))
return w, b
#test
dim = 2
w, b = initialize_with_zeros(dim)
print("w = " + str(w))
print("b = " + str(b))
#output
#w = [[ 0.]
# [ 0.]]
#b = 0


#propagate
def propagate(w, b, X, Y):
m = X.shape[1]
#Forward Propagation
A = sigmoid(np.dot(w.T,X)+b)
cost = -1/m*(np.sum(Y*np.log(A)+(1-Y)*np.log(1-A)))
#Backward propagation
dw = 1/m*np.dot(X, (A-Y).T)
db = 1/m*np.sum(A-Y)
#return
assert(dw.shape == w.shape)
assert(db.dtype == float)
cost = np.squeeze(cost)
assert(cost.shape == ())
grads = {"dw": dw, "db": db}
return grads, cost

#test
w, b, X, Y = np.array([[1.],[2.]]), np.array([[1.,2.,-1.],[3.,4.,-3.2]]), np.array([[1,0,1]])
grads, cost = propagate(w, b, X, Y)
print("dw = " + str(grads["dw"]))
print("db = " + str(grads["db"]))
print("cost = " + str(cost))

#output
#dw = [[ 0.99845601]
# [ 2.39507239]]
#db = 0.00145557813678
#cost = 5.80154531939


#optimize
def optimize(w, b, X, Y, num_iterations, learning_rate, print_cost = False):
costs = []
for i in range(num_iterations):
    grads, cost = propagate(w,b,X,Y)
    dw = grads["dw"]
    db = grads["db"]
    w = w - learning_rate * dw
    b = b - learning_rate * db
    if i % 100 == 0:
       costs.append(cost)
    if print_cost and i % 100 == 0:
       print("Cost after iteration %i: %f" %(i,cost))
params = {"w": w, "b": b}
grads = {"dw": dw, "db": db}
return params, grads, costs

#test
params, grads, costs = optimize(w,b,X,Y, num_iterations = 100, learning_rate = 0.009, print_cost = False)
print ("w = " + str(params["w"]))
print ("b = " + str(params["b"]))
print ("dw = " + str(grads["dw"]))
print ("db = " + str(grads["db"]))

#output
#w =	[[ 0.19033591] [ 0.12259159]]
#b =	1.92535983008
#dw =	[[ 0.67752042] [ 1.41625495]]
#db =	0.219194504541


#predict
def predict(w, b, X):
m = X.shape[1]
Y_prediction = np.zeros((1,m))
w = w.reshape(X.shape[0], 1)
A = sigmoid(np.dot(w.T,X) + b)

for i in range(A.shape[1]):
    if A[:,i]>0.5:
        Y_prediction[:,i] = 1
    else:
        Y_prediction[:,i] = 0
assert(Y_prediction.shape == (1,m))
return Y_prediction

#test
w = np.array([[0.1124579],[0.23106775]])
b = -0.3
X = np.array([[1.,-1.1,-3.2],[1.2,2.,0.1]])
print ("predictions = " + str(predict(w, b, X)))

#output
#predictions = [[ 1.  1.  0.]]

#Model
def model(X_train, Y_train, X_test, Y_test, num_iterations = 2000, learning_rate = 0.5, print_cost = False):
#initialize with zeros
w, b = initialize_with_zeros(X_train.shape[0])
#Gradient descent
parameters, grads, costs = optimize(w,b,X_train, Y_train, num_iterations, learning_rate, print_cost)
#Retrieve parameters w and b from params
w = parameters["w"]
b = parameters["b"]
#Predict test/train set examples
Y_prediction_test = predict(w,b, X_test)
Y_prediction_train = predict(w,b, X_train)
#Print train/test Errors
print("train accuracy: {}%".format(100 - np.mean(np.abs(Y_prediction_train - Y_train))*100))
print("test accuracy: {}%".format(100 - np.mean(np.abs(Y_prediction_test - Y_test)) * 100))
d = {"costs": costs, "Y_prediction_test": Y_prediction_test, "Y_prediction_train": Y_prediction_train,
     "w" : w, "b" : b, "learning_rate" : learning_rate, "num_iterations": num_iterations}
return d

#test
d = model(train_set_x, train_set_y, test_set_x, test_set_y, num_iterations = 2600, learning_rate = 0.005, print_cost = True)

#output
#Cost after iteration 0 : 0.693147
#Train Accuracy : 99.043%
#Test Accuracy: 70.0%


#Example of a picture classified
index = 20
plt.imshow(test_set_x[:, index],reshape((num_px, num_px, 3)))
print("y = " + str(test_set_y[0,index]) + ", you predicted that it is a \"" + classes[d["Y_prediction_test"][0,index]].decode("utf-8") + "\" picture." )
#output
#y = 1, you predicted that it is a "cat" picture.


#Plot learning curve (with costs)
costs = np.squeeze(d['costs'])
plt.plot(costs)
plt.ylabe('cost')
plt.xlabel('iterations (per hundreds)')
plt.title("Learning rate =" + str(d["learning_rate"]))
plt.show()


#Change learning rate
learning_rates = [0.01, 0.001, 0.0001]
models = {}
for i in learning_rates:
    print("learning rate is:" + str(i))
    models[str(i)]= model(train_set_x, train_set_y, test_set_x, test_set_y, num_iterations = 1500, learning_rate = i, print_cost = False)
    print('\n' + "--------------------------" + '\n')
    
for i in learning_rates:
    plt.plot(np.squeeze(models[str(i)]["costs"]), label = str(models[str(i)]["learning_rate"]))

plt.ylabel('cost')
plt.xlabel('iterations (hundreds)')

legend = plt.legend(loc = 'upper center', shadow = True)
frame = legend.get_frame()
frame.set_facecolor('0.90')
plt.show()

#output
#learning rate is: 0.01
#train accuracy: 99.52153110047847 %
#test accuracy: 68.0 %

#-------------------------------------------------------

#learning rate is: 0.001
#train accuracy: 88.99521531100478 %
#test accuracy: 64.0 %

#-------------------------------------------------------

#learning rate is: 0.0001
#train accuracy: 68.42105263157895 %
#test accuracy: 36.0 %


#Test own image
my_image = "My_image.jpg"

fname = "images/" + my_image
image = np.array(ndimage.imread(fname, flatten=False))
my_image = scipy.misc.imresize(image, size = (num_px, num_px)).reshape((1, num_px*num_px*3)).T
my_predicted_image = predict(d["w"], d["b"], my_image)

plt.imshow(image)
print("y = " + str(np.squeeze(my_predicted_image)) + ", your algorithm predicts a \"" + classes[int(np.squeeze(my_predicted_image)),].decode("utf-8") + "\" picture.")
#y = 1.0, your algorithm predicts a "cat" picture.









